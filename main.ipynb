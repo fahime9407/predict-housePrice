{
 "cells": [
  {
   "cell_type": "markdown",
   "metadata": {},
   "source": [
    "## Regression Project"
   ]
  },
  {
   "cell_type": "code",
   "execution_count": 2,
   "metadata": {},
   "outputs": [],
   "source": [
    "import pandas as pd\n",
    "import numpy as np\n",
    "import matplotlib.pyplot as plt\n",
    "import seaborn as sns\n",
    "from sklearn.preprocessing import StandardScaler\n",
    "from sklearn.linear_model import LinearRegression\n",
    "from sklearn.metrics import r2_score"
   ]
  },
  {
   "cell_type": "markdown",
   "metadata": {},
   "source": [
    "### Define Dataset"
   ]
  },
  {
   "cell_type": "code",
   "execution_count": 3,
   "metadata": {},
   "outputs": [
    {
     "data": {
      "text/html": [
       "<div>\n",
       "<style scoped>\n",
       "    .dataframe tbody tr th:only-of-type {\n",
       "        vertical-align: middle;\n",
       "    }\n",
       "\n",
       "    .dataframe tbody tr th {\n",
       "        vertical-align: top;\n",
       "    }\n",
       "\n",
       "    .dataframe thead th {\n",
       "        text-align: right;\n",
       "    }\n",
       "</style>\n",
       "<table border=\"1\" class=\"dataframe\">\n",
       "  <thead>\n",
       "    <tr style=\"text-align: right;\">\n",
       "      <th></th>\n",
       "      <th>Area</th>\n",
       "      <th>Room</th>\n",
       "      <th>Parking</th>\n",
       "      <th>Warehouse</th>\n",
       "      <th>Elevator</th>\n",
       "      <th>Address</th>\n",
       "      <th>Price</th>\n",
       "      <th>Price(USD)</th>\n",
       "    </tr>\n",
       "  </thead>\n",
       "  <tbody>\n",
       "    <tr>\n",
       "      <th>0</th>\n",
       "      <td>63</td>\n",
       "      <td>1</td>\n",
       "      <td>True</td>\n",
       "      <td>True</td>\n",
       "      <td>True</td>\n",
       "      <td>Shahran</td>\n",
       "      <td>1.850000e+09</td>\n",
       "      <td>61666.67</td>\n",
       "    </tr>\n",
       "    <tr>\n",
       "      <th>1</th>\n",
       "      <td>60</td>\n",
       "      <td>1</td>\n",
       "      <td>True</td>\n",
       "      <td>True</td>\n",
       "      <td>True</td>\n",
       "      <td>Shahran</td>\n",
       "      <td>1.850000e+09</td>\n",
       "      <td>61666.67</td>\n",
       "    </tr>\n",
       "    <tr>\n",
       "      <th>2</th>\n",
       "      <td>79</td>\n",
       "      <td>2</td>\n",
       "      <td>True</td>\n",
       "      <td>True</td>\n",
       "      <td>True</td>\n",
       "      <td>Pardis</td>\n",
       "      <td>5.500000e+08</td>\n",
       "      <td>18333.33</td>\n",
       "    </tr>\n",
       "    <tr>\n",
       "      <th>3</th>\n",
       "      <td>95</td>\n",
       "      <td>2</td>\n",
       "      <td>True</td>\n",
       "      <td>True</td>\n",
       "      <td>True</td>\n",
       "      <td>Shahrake Qods</td>\n",
       "      <td>9.025000e+08</td>\n",
       "      <td>30083.33</td>\n",
       "    </tr>\n",
       "    <tr>\n",
       "      <th>4</th>\n",
       "      <td>123</td>\n",
       "      <td>2</td>\n",
       "      <td>True</td>\n",
       "      <td>True</td>\n",
       "      <td>True</td>\n",
       "      <td>Shahrake Gharb</td>\n",
       "      <td>7.000000e+09</td>\n",
       "      <td>233333.33</td>\n",
       "    </tr>\n",
       "  </tbody>\n",
       "</table>\n",
       "</div>"
      ],
      "text/plain": [
       "  Area  Room  Parking  Warehouse  Elevator         Address         Price  \\\n",
       "0   63     1     True       True      True         Shahran  1.850000e+09   \n",
       "1   60     1     True       True      True         Shahran  1.850000e+09   \n",
       "2   79     2     True       True      True          Pardis  5.500000e+08   \n",
       "3   95     2     True       True      True   Shahrake Qods  9.025000e+08   \n",
       "4  123     2     True       True      True  Shahrake Gharb  7.000000e+09   \n",
       "\n",
       "   Price(USD)  \n",
       "0    61666.67  \n",
       "1    61666.67  \n",
       "2    18333.33  \n",
       "3    30083.33  \n",
       "4   233333.33  "
      ]
     },
     "execution_count": 3,
     "metadata": {},
     "output_type": "execute_result"
    }
   ],
   "source": [
    "df = pd.read_csv(\"housePrice.csv\")\n",
    "df.head()"
   ]
  },
  {
   "cell_type": "code",
   "execution_count": 4,
   "metadata": {},
   "outputs": [
    {
     "name": "stdout",
     "output_type": "stream",
     "text": [
      "<class 'pandas.core.frame.DataFrame'>\n",
      "RangeIndex: 3479 entries, 0 to 3478\n",
      "Data columns (total 7 columns):\n",
      " #   Column      Non-Null Count  Dtype  \n",
      "---  ------      --------------  -----  \n",
      " 0   Area        3479 non-null   object \n",
      " 1   Room        3479 non-null   int64  \n",
      " 2   Parking     3479 non-null   bool   \n",
      " 3   Warehouse   3479 non-null   bool   \n",
      " 4   Elevator    3479 non-null   bool   \n",
      " 5   Address     3456 non-null   object \n",
      " 6   Price(USD)  3479 non-null   float64\n",
      "dtypes: bool(3), float64(1), int64(1), object(2)\n",
      "memory usage: 119.0+ KB\n"
     ]
    }
   ],
   "source": [
    "cdf = df[[\"Area\", \"Room\", \"Parking\", \"Warehouse\", \"Elevator\", \"Address\", \"Price(USD)\"]] # Price(USD) is the label.\n",
    "cdf.info()"
   ]
  },
  {
   "cell_type": "code",
   "execution_count": 5,
   "metadata": {},
   "outputs": [
    {
     "data": {
      "text/plain": [
       "Area          0\n",
       "Room          0\n",
       "Parking       0\n",
       "Warehouse     0\n",
       "Elevator      0\n",
       "Address       0\n",
       "Price(USD)    0\n",
       "dtype: int64"
      ]
     },
     "execution_count": 5,
     "metadata": {},
     "output_type": "execute_result"
    }
   ],
   "source": [
    "cdf = cdf.dropna()\n",
    "cdf.isnull().sum()"
   ]
  },
  {
   "cell_type": "markdown",
   "metadata": {},
   "source": [
    "### Preprocessing"
   ]
  },
  {
   "cell_type": "code",
   "execution_count": 6,
   "metadata": {},
   "outputs": [],
   "source": [
    "# convert the value of \"Area\" from object to int64 and if its non-convertible the value will be nan.\n",
    "cdf[\"Area\"] = pd.to_numeric(cdf[\"Area\"], errors=\"coerce\")\n",
    "cdf = cdf.dropna()"
   ]
  },
  {
   "cell_type": "code",
   "execution_count": 7,
   "metadata": {},
   "outputs": [
    {
     "data": {
      "image/png": "[encoded data removed]",
      "text/plain": [
       "<Figure size 640x480 with 1 Axes>"
      ]
     },
     "metadata": {},
     "output_type": "display_data"
    }
   ],
   "source": [
    "plt.scatter(cdf[\"Area\"], cdf[\"Price(USD)\"], color=\"green\")\n",
    "plt.xlabel(\"Area\")\n",
    "plt.ylabel(\"Price\")\n",
    "plt.show()"
   ]
  },
  {
   "cell_type": "code",
   "execution_count": 8,
   "metadata": {},
   "outputs": [],
   "source": [
    "# this cell drops outlier datas, I determined that if value of \"Area\" is more than 300 It is outlier.\n",
    "Q3 = cdf[\"Area\"].quantile(0.75)\n",
    "IQR = Q3\n",
    "upper_bound = Q3 + 1.5 * IQR\n",
    "\n",
    "cdf[\"Area\"] = cdf[\"Area\"].where(cdf[\"Area\"] <= upper_bound, np.nan) # value if less than 300 else nan.\n",
    "\n",
    "cdf = cdf.dropna()"
   ]
  },
  {
   "cell_type": "code",
   "execution_count": 9,
   "metadata": {},
   "outputs": [
    {
     "data": {
      "image/png": "[encoded data removed]",
      "text/plain": [
       "<Figure size 640x480 with 1 Axes>"
      ]
     },
     "metadata": {},
     "output_type": "display_data"
    }
   ],
   "source": [
    "plt.scatter(cdf[\"Area\"], cdf[\"Price(USD)\"], color=\"green\")\n",
    "plt.xlabel(\"Area\")\n",
    "plt.ylabel(\"Price\")\n",
    "plt.show()"
   ]
  },
  {
   "cell_type": "code",
   "execution_count": 10,
   "metadata": {},
   "outputs": [
    {
     "name": "stdout",
     "output_type": "stream",
     "text": [
      "<class 'pandas.core.frame.DataFrame'>\n",
      "Index: 3389 entries, 0 to 3478\n",
      "Data columns (total 7 columns):\n",
      " #   Column      Non-Null Count  Dtype  \n",
      "---  ------      --------------  -----  \n",
      " 0   Area        3389 non-null   float64\n",
      " 1   Room        3389 non-null   int64  \n",
      " 2   Parking     3389 non-null   int64  \n",
      " 3   Warehouse   3389 non-null   int64  \n",
      " 4   Elevator    3389 non-null   int64  \n",
      " 5   Address     3389 non-null   object \n",
      " 6   Price(USD)  3389 non-null   float64\n",
      "dtypes: float64(2), int64(4), object(1)\n",
      "memory usage: 211.8+ KB\n"
     ]
    }
   ],
   "source": [
    "# convert boolean values to int64.\n",
    "cdf[\"Parking\"] = cdf[\"Parking\"].astype(int)\n",
    "cdf[\"Warehouse\"] = cdf[\"Warehouse\"].astype(int)\n",
    "cdf[\"Elevator\"] = cdf[\"Elevator\"].astype(int)\n",
    "\n",
    "cdf.info()"
   ]
  },
  {
   "cell_type": "code",
   "execution_count": 11,
   "metadata": {},
   "outputs": [
    {
     "data": {
      "text/html": [
       "<div>\n",
       "<style scoped>\n",
       "    .dataframe tbody tr th:only-of-type {\n",
       "        vertical-align: middle;\n",
       "    }\n",
       "\n",
       "    .dataframe tbody tr th {\n",
       "        vertical-align: top;\n",
       "    }\n",
       "\n",
       "    .dataframe thead th {\n",
       "        text-align: right;\n",
       "    }\n",
       "</style>\n",
       "<table border=\"1\" class=\"dataframe\">\n",
       "  <thead>\n",
       "    <tr style=\"text-align: right;\">\n",
       "      <th></th>\n",
       "      <th>Area</th>\n",
       "      <th>Room</th>\n",
       "      <th>Parking</th>\n",
       "      <th>Warehouse</th>\n",
       "      <th>Elevator</th>\n",
       "      <th>Price(USD)</th>\n",
       "    </tr>\n",
       "    <tr>\n",
       "      <th>Address</th>\n",
       "      <th></th>\n",
       "      <th></th>\n",
       "      <th></th>\n",
       "      <th></th>\n",
       "      <th></th>\n",
       "      <th></th>\n",
       "    </tr>\n",
       "  </thead>\n",
       "  <tbody>\n",
       "    <tr>\n",
       "      <th>Abazar</th>\n",
       "      <td>22</td>\n",
       "      <td>22</td>\n",
       "      <td>22</td>\n",
       "      <td>22</td>\n",
       "      <td>22</td>\n",
       "      <td>22</td>\n",
       "    </tr>\n",
       "    <tr>\n",
       "      <th>Abbasabad</th>\n",
       "      <td>2</td>\n",
       "      <td>2</td>\n",
       "      <td>2</td>\n",
       "      <td>2</td>\n",
       "      <td>2</td>\n",
       "      <td>2</td>\n",
       "    </tr>\n",
       "    <tr>\n",
       "      <th>Abuzar</th>\n",
       "      <td>3</td>\n",
       "      <td>3</td>\n",
       "      <td>3</td>\n",
       "      <td>3</td>\n",
       "      <td>3</td>\n",
       "      <td>3</td>\n",
       "    </tr>\n",
       "    <tr>\n",
       "      <th>Afsarieh</th>\n",
       "      <td>6</td>\n",
       "      <td>6</td>\n",
       "      <td>6</td>\n",
       "      <td>6</td>\n",
       "      <td>6</td>\n",
       "      <td>6</td>\n",
       "    </tr>\n",
       "    <tr>\n",
       "      <th>Ahang</th>\n",
       "      <td>2</td>\n",
       "      <td>2</td>\n",
       "      <td>2</td>\n",
       "      <td>2</td>\n",
       "      <td>2</td>\n",
       "      <td>2</td>\n",
       "    </tr>\n",
       "    <tr>\n",
       "      <th>...</th>\n",
       "      <td>...</td>\n",
       "      <td>...</td>\n",
       "      <td>...</td>\n",
       "      <td>...</td>\n",
       "      <td>...</td>\n",
       "      <td>...</td>\n",
       "    </tr>\n",
       "    <tr>\n",
       "      <th>Yousef Abad</th>\n",
       "      <td>38</td>\n",
       "      <td>38</td>\n",
       "      <td>38</td>\n",
       "      <td>38</td>\n",
       "      <td>38</td>\n",
       "      <td>38</td>\n",
       "    </tr>\n",
       "    <tr>\n",
       "      <th>Zafar</th>\n",
       "      <td>9</td>\n",
       "      <td>9</td>\n",
       "      <td>9</td>\n",
       "      <td>9</td>\n",
       "      <td>9</td>\n",
       "      <td>9</td>\n",
       "    </tr>\n",
       "    <tr>\n",
       "      <th>Zaferanieh</th>\n",
       "      <td>25</td>\n",
       "      <td>25</td>\n",
       "      <td>25</td>\n",
       "      <td>25</td>\n",
       "      <td>25</td>\n",
       "      <td>25</td>\n",
       "    </tr>\n",
       "    <tr>\n",
       "      <th>Zargandeh</th>\n",
       "      <td>4</td>\n",
       "      <td>4</td>\n",
       "      <td>4</td>\n",
       "      <td>4</td>\n",
       "      <td>4</td>\n",
       "      <td>4</td>\n",
       "    </tr>\n",
       "    <tr>\n",
       "      <th>Zibadasht</th>\n",
       "      <td>1</td>\n",
       "      <td>1</td>\n",
       "      <td>1</td>\n",
       "      <td>1</td>\n",
       "      <td>1</td>\n",
       "      <td>1</td>\n",
       "    </tr>\n",
       "  </tbody>\n",
       "</table>\n",
       "<p>189 rows × 6 columns</p>\n",
       "</div>"
      ],
      "text/plain": [
       "             Area  Room  Parking  Warehouse  Elevator  Price(USD)\n",
       "Address                                                          \n",
       "Abazar         22    22       22         22        22          22\n",
       "Abbasabad       2     2        2          2         2           2\n",
       "Abuzar          3     3        3          3         3           3\n",
       "Afsarieh        6     6        6          6         6           6\n",
       "Ahang           2     2        2          2         2           2\n",
       "...           ...   ...      ...        ...       ...         ...\n",
       "Yousef Abad    38    38       38         38        38          38\n",
       "Zafar           9     9        9          9         9           9\n",
       "Zaferanieh     25    25       25         25        25          25\n",
       "Zargandeh       4     4        4          4         4           4\n",
       "Zibadasht       1     1        1          1         1           1\n",
       "\n",
       "[189 rows x 6 columns]"
      ]
     },
     "execution_count": 11,
     "metadata": {},
     "output_type": "execute_result"
    }
   ],
   "source": [
    "# achieve classes of \"Address\" to choose the way of encoding (Lable Encoder, One Hot Encoding or Target Encoding).\n",
    "address_group = cdf.groupby(\"Address\")\n",
    "address_group.count()"
   ]
  },
  {
   "cell_type": "code",
   "execution_count": 12,
   "metadata": {},
   "outputs": [
    {
     "data": {
      "text/plain": [
       "((2737, 7), (652, 7))"
      ]
     },
     "execution_count": 12,
     "metadata": {},
     "output_type": "execute_result"
    }
   ],
   "source": [
    "# split data to train and test.\n",
    "msk = np.random.rand(len(cdf)) < 0.8\n",
    "\n",
    "data_train, data_test = cdf[msk], cdf[~msk]\n",
    "\n",
    "data_train.shape, data_test.shape"
   ]
  },
  {
   "cell_type": "code",
   "execution_count": 13,
   "metadata": {},
   "outputs": [
    {
     "data": {
      "text/html": [
       "<div>\n",
       "<style scoped>\n",
       "    .dataframe tbody tr th:only-of-type {\n",
       "        vertical-align: middle;\n",
       "    }\n",
       "\n",
       "    .dataframe tbody tr th {\n",
       "        vertical-align: top;\n",
       "    }\n",
       "\n",
       "    .dataframe thead th {\n",
       "        text-align: right;\n",
       "    }\n",
       "</style>\n",
       "<table border=\"1\" class=\"dataframe\">\n",
       "  <thead>\n",
       "    <tr style=\"text-align: right;\">\n",
       "      <th></th>\n",
       "      <th>Area</th>\n",
       "      <th>Room</th>\n",
       "      <th>Parking</th>\n",
       "      <th>Warehouse</th>\n",
       "      <th>Elevator</th>\n",
       "      <th>Price(USD)</th>\n",
       "      <th>Address_Encoded</th>\n",
       "    </tr>\n",
       "  </thead>\n",
       "  <tbody>\n",
       "  </tbody>\n",
       "</table>\n",
       "</div>"
      ],
      "text/plain": [
       "Empty DataFrame\n",
       "Columns: [Area, Room, Parking, Warehouse, Elevator, Price(USD), Address_Encoded]\n",
       "Index: []"
      ]
     },
     "execution_count": 13,
     "metadata": {},
     "output_type": "execute_result"
    }
   ],
   "source": [
    "# I used target encoding to encode \"Address\".\n",
    "data_train = data_train.copy() # because of warning message.\n",
    "mean_prices = data_train.groupby(\"Address\")[\"Price(USD)\"].mean()\n",
    "data_train[\"Address_Encoded\"] = data_train[\"Address\"].map(mean_prices)\n",
    "global_price = data_train[\"Price(USD)\"].mean()\n",
    "\n",
    "data_train.drop(\"Address\", axis=1, inplace=True) # we dont need \"Address\" anymore.\n",
    "data_train.head(0)"
   ]
  },
  {
   "cell_type": "code",
   "execution_count": 14,
   "metadata": {},
   "outputs": [
    {
     "data": {
      "image/png": "[encoded data removed]",
      "text/plain": [
       "<Figure size 640x480 with 1 Axes>"
      ]
     },
     "metadata": {},
     "output_type": "display_data"
    }
   ],
   "source": [
    "plt.scatter(data_train[\"Address_Encoded\"], data_train[\"Price(USD)\"], color=\"blue\")\n",
    "plt.xlabel(\"Address\")\n",
    "plt.ylabel(\"Price\")\n",
    "plt.show()"
   ]
  },
  {
   "cell_type": "code",
   "execution_count": 15,
   "metadata": {},
   "outputs": [
    {
     "data": {
      "image/png": "[encoded data removed]",
      "text/plain": [
       "<Figure size 640x480 with 2 Axes>"
      ]
     },
     "metadata": {},
     "output_type": "display_data"
    }
   ],
   "source": [
    "# to see correlation between features and label, it is important to use train data for this process.\n",
    "corr = data_train.corr(numeric_only=True)\n",
    "sns.heatmap(corr, annot=True, cmap=\"coolwarm\")\n",
    "plt.show()"
   ]
  },
  {
   "cell_type": "code",
   "execution_count": 16,
   "metadata": {},
   "outputs": [],
   "source": [
    "# we use features with hight correlations for training.\n",
    "x_train = np.asanyarray(data_train[[\"Area\", \"Room\", \"Parking\", \"Address_Encoded\"]])\n",
    "y_train = np.asanyarray(data_train[[\"Price(USD)\"]])"
   ]
  },
  {
   "cell_type": "code",
   "execution_count": 17,
   "metadata": {},
   "outputs": [
    {
     "data": {
      "text/plain": [
       "array([[-0.49438803],\n",
       "       [-0.70573407],\n",
       "       [-0.64842679],\n",
       "       ...,\n",
       "       [-0.22614117],\n",
       "       [ 0.31035256],\n",
       "       [ 0.11526393]], shape=(2737, 1))"
      ]
     },
     "execution_count": 17,
     "metadata": {},
     "output_type": "execute_result"
    }
   ],
   "source": [
    "# this cell normalizes train datas.\n",
    "x_scaler = StandardScaler(copy=False)\n",
    "y_scaler = StandardScaler(copy=False)\n",
    "x_scaler.fit_transform(x_train)\n",
    "y_scaler.fit_transform(y_train)"
   ]
  },
  {
   "cell_type": "markdown",
   "metadata": {},
   "source": [
    "## Polynomial Regression"
   ]
  },
  {
   "cell_type": "markdown",
   "metadata": {},
   "source": [
    "### Model Definition"
   ]
  },
  {
   "cell_type": "code",
   "execution_count": 18,
   "metadata": {},
   "outputs": [
    {
     "data": {
      "text/plain": [
       "(array([[-0.89313912, -1.45859275,  0.41975293, -0.38787675],\n",
       "        [-0.47820636, -0.07769743,  0.41975293, -0.84655618],\n",
       "        [-0.12878929, -0.07769743,  0.41975293, -0.81409983]]),\n",
       " array([[ 1.        , -0.89313912, -1.45859275,  0.41975293, -0.38787675,\n",
       "          0.79769748,  1.30272624, -0.37489776,  0.3464279 ,  2.1274928 ,\n",
       "         -0.61224858,  0.56575421,  0.17619252, -0.1628124 ,  0.15044837],\n",
       "        [ 1.        , -0.47820636, -0.07769743,  0.41975293, -0.84655618,\n",
       "          0.22868132,  0.03715541, -0.20072852,  0.40482855,  0.00603689,\n",
       "         -0.03261373,  0.06577524,  0.17619252, -0.35534444,  0.71665737],\n",
       "        [ 1.        , -0.12878929, -0.07769743,  0.41975293, -0.81409983,\n",
       "          0.01658668,  0.0100066 , -0.05405968,  0.10484734,  0.00603689,\n",
       "         -0.03261373,  0.06325347,  0.17619252, -0.34172079,  0.66275853]]))"
      ]
     },
     "execution_count": 18,
     "metadata": {},
     "output_type": "execute_result"
    }
   ],
   "source": [
    "from sklearn.preprocessing import PolynomialFeatures\n",
    "\n",
    "poly = PolynomialFeatures(degree=2)\n",
    "x_train_poly = poly.fit_transform(x_train)\n",
    "\n",
    "x_train[:3], x_train_poly[:3]"
   ]
  },
  {
   "cell_type": "code",
   "execution_count": 19,
   "metadata": {},
   "outputs": [
    {
     "name": "stdout",
     "output_type": "stream",
     "text": [
      "coefficient : [ 0.          0.36296118 -0.02935151  0.01386966  0.50995945  0.01994987\n",
      " -0.01652585  0.05991571  0.2618246   0.02516369 -0.00962279 -0.05912884\n",
      " -0.0272206   0.03365621 -0.11327095] | intercept : -0.04571213901308889\n"
     ]
    }
   ],
   "source": [
    "mymodel = LinearRegression()\n",
    "mymodel.fit(x_train_poly, y_train)\n",
    "\n",
    "print(f\"coefficient : {mymodel.coef_[0]} | intercept : {mymodel.intercept_[0]}\")"
   ]
  },
  {
   "cell_type": "markdown",
   "metadata": {},
   "source": [
    "### Model Evaluation"
   ]
  },
  {
   "cell_type": "code",
   "execution_count": 20,
   "metadata": {},
   "outputs": [
    {
     "data": {
      "text/html": [
       "<div>\n",
       "<style scoped>\n",
       "    .dataframe tbody tr th:only-of-type {\n",
       "        vertical-align: middle;\n",
       "    }\n",
       "\n",
       "    .dataframe tbody tr th {\n",
       "        vertical-align: top;\n",
       "    }\n",
       "\n",
       "    .dataframe thead th {\n",
       "        text-align: right;\n",
       "    }\n",
       "</style>\n",
       "<table border=\"1\" class=\"dataframe\">\n",
       "  <thead>\n",
       "    <tr style=\"text-align: right;\">\n",
       "      <th></th>\n",
       "      <th>Area</th>\n",
       "      <th>Room</th>\n",
       "      <th>Parking</th>\n",
       "      <th>Warehouse</th>\n",
       "      <th>Elevator</th>\n",
       "      <th>Price(USD)</th>\n",
       "      <th>Address_Encoded</th>\n",
       "    </tr>\n",
       "  </thead>\n",
       "  <tbody>\n",
       "  </tbody>\n",
       "</table>\n",
       "</div>"
      ],
      "text/plain": [
       "Empty DataFrame\n",
       "Columns: [Area, Room, Parking, Warehouse, Elevator, Price(USD), Address_Encoded]\n",
       "Index: []"
      ]
     },
     "execution_count": 20,
     "metadata": {},
     "output_type": "execute_result"
    }
   ],
   "source": [
    "data_test = data_test.copy() # encode address for test data with the means of train data.\n",
    "data_test[\"Address_Encoded\"] = data_test[\"Address\"].map(mean_prices)\n",
    "data_test = data_test.dropna()\n",
    "\n",
    "data_test.drop(\"Address\", axis=1, inplace=True)\n",
    "data_test.head(0)"
   ]
  },
  {
   "cell_type": "code",
   "execution_count": 21,
   "metadata": {},
   "outputs": [],
   "source": [
    "x_test = np.asanyarray(data_test[[\"Area\", \"Room\", \"Parking\", \"Address_Encoded\"]])\n",
    "y_test = np.asanyarray(data_test[[\"Price(USD)\"]])"
   ]
  },
  {
   "cell_type": "code",
   "execution_count": 22,
   "metadata": {},
   "outputs": [
    {
     "data": {
      "text/plain": [
       "array([[-0.82762342, -1.45859275,  0.41975293, -0.38787675],\n",
       "       [-0.30349782, -0.07769743,  0.41975293, -0.84655618],\n",
       "       [-0.82762342, -1.45859275, -2.38235383, -0.74221051]])"
      ]
     },
     "execution_count": 22,
     "metadata": {},
     "output_type": "execute_result"
    }
   ],
   "source": [
    "x_scaler.transform(x_test) # normalize test data\n",
    "y_scaler.transform(y_test)\n",
    "\n",
    "x_test[:3]"
   ]
  },
  {
   "cell_type": "code",
   "execution_count": 23,
   "metadata": {},
   "outputs": [],
   "source": [
    "x_test_poly = poly.transform(x_test) # transform test data for polynomial model with train metrics.\n",
    "y_pred = mymodel.predict(x_test_poly)"
   ]
  },
  {
   "cell_type": "code",
   "execution_count": 24,
   "metadata": {},
   "outputs": [
    {
     "name": "stdout",
     "output_type": "stream",
     "text": [
      "Mean Squared Error : 0.1034268020417485 | Mean Absolute Error : 0.17899243005674945 | R2 Score : 0.8718925311357401\n"
     ]
    }
   ],
   "source": [
    "mse = np.mean((y_test - y_pred) ** 2)\n",
    "mae = np.mean(np.absolute(y_test - y_pred))\n",
    "r2 = r2_score(y_test, y_pred)\n",
    "\n",
    "print(f\"mean squared error : {mse} | mean absolute error : {mae} | r2 score : {r2}\".title())"
   ]
  },
  {
   "cell_type": "code",
   "execution_count": 25,
   "metadata": {},
   "outputs": [],
   "source": [
    "from tkinter import *\n",
    "from tkinter import ttk"
   ]
  },
  {
   "cell_type": "code",
   "execution_count": 26,
   "metadata": {},
   "outputs": [],
   "source": [
    "# I used tkinter to recieve information from user and show the result to user.\n",
    "def encode_address(address):\n",
    "    return mean_prices.get(address, global_price)\n",
    "\n",
    "def predict():\n",
    "    try:\n",
    "        area, room, parking, address = float(entry1.get()), int(entry2.get()), combo_box.get(), entry4.get()\n",
    "        parking = 1 if parking == \"Yes\" else 0\n",
    "        address_encoded = encode_address(address)\n",
    "        x = np.asanyarray([[area, room, parking, address_encoded]])\n",
    "        x_scaler.transform(x)\n",
    "        x_poly = poly.transform(x)\n",
    "        y = mymodel.predict(x_poly)\n",
    "        y_scaler.inverse_transform(y)\n",
    "        label_result.config(text=f\"my prediction : {y[0][0]:.3f} $\".title())\n",
    "    except ValueError:\n",
    "        label_result.config(text=\"invalid input!\".title())\n",
    "\n",
    "\n",
    "root = Tk()\n",
    "root.title(\"Predictor\")\n",
    "root.geometry(\"350x300\")\n",
    "label1 = Label(root, text= \"House area (m²) : \").place(x= 10, y= 20) # Enter Area as a number.\n",
    "label2 = Label(root, text= \"Number of rooms : \").place(x= 10, y= 60) # Enter number of rooms as e integer.\n",
    "label3 = Label(root, text= \"Parking available: (Yes / No) : \").place(x= 10, y= 100) # Yes if it has parking else no.\n",
    "label4 = Label(root, text= \"Neighborhood (in Tehran) : \").place(x= 10, y= 140) # Enter the neghborhood.\n",
    "entry1 = Entry(root, width= 21)\n",
    "entry1.place(x= 185, y= 20)\n",
    "entry2 = Entry(root, width= 21)\n",
    "entry2.place(x= 185, y= 60)\n",
    "combo_box = ttk.Combobox(root, values= [\"Yes\", \"No\"], width= 18)\n",
    "combo_box.place(x= 185, y= 100)\n",
    "entry4 = Entry(root, width= 21)\n",
    "entry4.place(x= 185, y= 140)\n",
    "button1 = Button(root, text= \"Predict\", width= 45, command= predict, activebackground= \"green\", activeforeground= \"red\")\n",
    "button1.place(x= 15, y= 180)\n",
    "label_result = Label(root, text= \"result .....\", bg= \"lightgray\", font='Helvetica 15 bold')\n",
    "label_result.place(x= 10, y= 218)\n",
    "button2 = Button(root, text= \"Done\", command= root.destroy, width= 45, activebackground= \"black\", activeforeground= \"white\").place(x= 15, y= 260)\n",
    "root.mainloop()"
   ]
  },
  {
   "cell_type": "code",
   "execution_count": null,
   "metadata": {},
   "outputs": [],
   "source": []
  }
 ],
 "metadata": {
  "kernelspec": {
   "display_name": "myvenv",
   "language": "python",
   "name": "python3"
  },
  "language_info": {
   "codemirror_mode": {
    "name": "ipython",
    "version": 3
   },
   "file_extension": ".py",
   "mimetype": "text/x-python",
   "name": "python",
   "nbconvert_exporter": "python",
   "pygments_lexer": "ipython3",
   "version": "3.13.2"
  }
 },
 "nbformat": 4,
 "nbformat_minor": 2
}
